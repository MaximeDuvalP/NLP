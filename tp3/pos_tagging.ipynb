{
 "cells": [
  {
   "cell_type": "code",
   "execution_count": 2,
   "metadata": {},
   "outputs": [],
   "source": [
    "from src.Dataset import Dataset\n",
    "from sklearn.feature_extraction import DictVectorizer\n",
    "from sklearn.model_selection import train_test_split\n",
    "from sklearn.decomposition import PCA\n",
    "from sklearn.linear_model import Perceptron\n",
    "\n",
    "import numpy as np\n",
    "import pandas as pd"
   ]
  },
  {
   "cell_type": "code",
   "execution_count": 3,
   "metadata": {},
   "outputs": [],
   "source": [
    "train_fr=Dataset(filename=\"fr_gsd-ud-train.conllu\")\n",
    "train_en=Dataset(filename=\"en_ewt-ud-train.conllu\")"
   ]
  },
  {
   "cell_type": "code",
   "execution_count": 40,
   "metadata": {},
   "outputs": [],
   "source": [
    "\n",
    "def eval_perceptron(train,features,limit_n=False,do_pca=False,pca_ncomponents=1000):\n",
    "\n",
    "    if not limit_n:\n",
    "        limit_n=train.nb_tokens\n",
    "\n",
    "    X = [{\"word\": train.types[train.X[i]],\n",
    "        \"left_neighbor\":train.types[train.X[i-1]],\n",
    "        \"right_neighbor\":train.types[train.X[(i+1) % train.nb_tokens]],\n",
    "        \"pos_in_sentence\":0,\n",
    "        \"end_word3\":train.types[train.X[i]][-3:],\n",
    "        \"end_word2\":train.types[train.X[i]][-2:],\n",
    "        \"word_length\":len(train.types[train.X[i]]),\n",
    "        \"word_length_left\":len(train.types[train.X[i-1]]),\n",
    "        \"word_length_right\":len(train.types[train.X[(i+1) % train.nb_tokens]]),\n",
    "        \"left_pos\":\"\",\n",
    "        \"after_comma\":0,\n",
    "        \"before_comma\":0\n",
    "        } for i in range(train.nb_tokens)]\n",
    "\n",
    "    for i in range(train.nb_sentences):\n",
    "        X[train.start_sentences[i]][\"left_neighbor\"]=\"\"\n",
    "        X[train.start_sentences[i]+train.len_sentences[i]-1][\"right_neighbor\"]=\"\"\n",
    "        X[train.start_sentences[i]][\"word_length_left\"]=0\n",
    "        X[train.start_sentences[i]+train.len_sentences[i]-1][\"word_length_right\"]=0\n",
    "        for j in range(train.len_sentences[i]):\n",
    "            s=train.start_sentences[i]\n",
    "            if train.len_sentences[i]>1:\n",
    "                X[s+j][\"pos_in_sentence\"]=(j/(train.len_sentences[i]-1))\n",
    "            X[s+j][\"left_end_word3\"]=X[s+j][\"left_neighbor\"][-3:]\n",
    "            X[s+j][\"left_end_word2\"]=X[s+j][\"left_neighbor\"][-2:]\n",
    "            X[s+j][\"right_end_word3\"]=X[s+j][\"right_neighbor\"][-3:]\n",
    "            X[s+j][\"right_end_word2\"]=X[s+j][\"right_neighbor\"][-2:]\n",
    "            if X[s+j][\"left_neighbor\"]!=\"\":\n",
    "                X[s+j][\"left_pos\"]=train.pos[train.y[s+j-1]]\n",
    "            X[s+j][\"after_comma\"]=(X[s+j][\"left_neighbor\"]==\",\")\n",
    "            X[s+j][\"before_comma\"]=(X[s+j][\"right_neighbor\"]==\",\")\n",
    "\n",
    "    X_filtered=[{key:X[i][key] for key in features} for i in range(train.nb_tokens)]\n",
    "\n",
    "\n",
    "    v = DictVectorizer(sparse=(not do_pca))\n",
    "    X_matrix = v.fit_transform(X_filtered[:limit_n])\n",
    "    print(X_matrix.shape)\n",
    "\n",
    "\n",
    "    if do_pca:\n",
    "        pca = PCA(n_components=pca_ncomponents)\n",
    "        X_matrix=pca.fit_transform(X_matrix)\n",
    "\n",
    "    Y=np.array([train.pos[train.y[i]] for i in range(train.nb_tokens)])\n",
    "\n",
    "    X_train, X_test, y_train, y_test = train_test_split(X_matrix, Y[:limit_n], test_size=0.2, random_state=42)\n",
    "    print(X_train.shape)\n",
    "\n",
    "\n",
    "    clf = Perceptron(random_state=0)\n",
    "    clf.fit(X_train, y_train)\n",
    "\n",
    "    return clf.score(X_test, y_test)"
   ]
  },
  {
   "cell_type": "code",
   "execution_count": 8,
   "metadata": {},
   "outputs": [
    {
     "name": "stdout",
     "output_type": "stream",
     "text": [
      "(354558, 42332)\n"
     ]
    },
    {
     "data": {
      "text/plain": [
       "0.8648888763537906"
      ]
     },
     "execution_count": 8,
     "metadata": {},
     "output_type": "execute_result"
    }
   ],
   "source": [
    "eval_perceptron(train_fr,[\"word\"])"
   ]
  },
  {
   "cell_type": "code",
   "execution_count": 12,
   "metadata": {},
   "outputs": [
    {
     "name": "stdout",
     "output_type": "stream",
     "text": [
      "(354558, 125575)\n"
     ]
    },
    {
     "data": {
      "text/plain": [
       "0.929814417870036"
      ]
     },
     "execution_count": 12,
     "metadata": {},
     "output_type": "execute_result"
    }
   ],
   "source": [
    "eval_perceptron(train_fr,[\"word\",\"left_neighbor\",\"right_neighbor\"])"
   ]
  },
  {
   "cell_type": "code",
   "execution_count": 14,
   "metadata": {},
   "outputs": [
    {
     "name": "stdout",
     "output_type": "stream",
     "text": [
      "(204576, 57210)\n"
     ]
    },
    {
     "data": {
      "text/plain": [
       "0.9214488219767328"
      ]
     },
     "execution_count": 14,
     "metadata": {},
     "output_type": "execute_result"
    }
   ],
   "source": [
    "eval_perceptron(train_en,[\"word\",\"left_neighbor\",\"right_neighbor\",\"pos_in_sentence\"])"
   ]
  },
  {
   "cell_type": "code",
   "execution_count": 17,
   "metadata": {},
   "outputs": [
    {
     "name": "stdout",
     "output_type": "stream",
     "text": [
      "(354558, 125578)\n"
     ]
    },
    {
     "data": {
      "text/plain": [
       "0.9296169900722022"
      ]
     },
     "execution_count": 17,
     "metadata": {},
     "output_type": "execute_result"
    }
   ],
   "source": [
    "eval_perceptron(train_fr,[\"word\",\"left_neighbor\",\"right_neighbor\",\"pos_in_sentence\",\"before_comma\",\"after_comma\"])"
   ]
  },
  {
   "cell_type": "code",
   "execution_count": 24,
   "metadata": {},
   "outputs": [
    {
     "name": "stdout",
     "output_type": "stream",
     "text": [
      "(354558, 133664)\n"
     ]
    },
    {
     "data": {
      "text/plain": [
       "0.9573273916967509"
      ]
     },
     "execution_count": 24,
     "metadata": {},
     "output_type": "execute_result"
    }
   ],
   "source": [
    "eval_perceptron(train_fr,[\"word\",\"left_neighbor\",\"right_neighbor\",\"pos_in_sentence\",\"end_word3\",\"end_word2\",\"word_length\"])"
   ]
  },
  {
   "cell_type": "code",
   "execution_count": 26,
   "metadata": {},
   "outputs": [
    {
     "name": "stdout",
     "output_type": "stream",
     "text": [
      "(204576, 72919)\n"
     ]
    },
    {
     "data": {
      "text/plain": [
       "0.9365284974093264"
      ]
     },
     "execution_count": 26,
     "metadata": {},
     "output_type": "execute_result"
    }
   ],
   "source": [
    "eval_perceptron(train_en,[\"word\",\"left_neighbor\",\"right_neighbor\",\"pos_in_sentence\",\"end_word3\",\"end_word2\",\"word_length\",\"left_end_word3\",\"left_end_word2\",\"right_end_word3\",\"right_end_word2\"])"
   ]
  },
  {
   "cell_type": "code",
   "execution_count": 29,
   "metadata": {},
   "outputs": [
    {
     "name": "stdout",
     "output_type": "stream",
     "text": [
      "(354558, 149660)\n"
     ]
    },
    {
     "data": {
      "text/plain": [
       "0.9458624774368231"
      ]
     },
     "execution_count": 29,
     "metadata": {},
     "output_type": "execute_result"
    }
   ],
   "source": [
    "eval_perceptron(train_fr,[\"word\",\"left_neighbor\",\"right_neighbor\",\"pos_in_sentence\",\"end_word3\",\"end_word2\",\"word_length\",\"left_end_word3\",\"left_end_word2\",\"right_end_word3\",\"right_end_word2\",\"word_length_left\",\"word_length_right\"])"
   ]
  },
  {
   "cell_type": "code",
   "execution_count": 43,
   "metadata": {},
   "outputs": [
    {
     "name": "stdout",
     "output_type": "stream",
     "text": [
      "(15000, 3656)\n",
      "(12000, 1000)\n"
     ]
    },
    {
     "data": {
      "text/plain": [
       "0.7793333333333333"
      ]
     },
     "execution_count": 43,
     "metadata": {},
     "output_type": "execute_result"
    }
   ],
   "source": [
    "eval_perceptron(train_en,[\"word\"],do_pca=True,limit_n=15000)"
   ]
  },
  {
   "cell_type": "code",
   "execution_count": 45,
   "metadata": {},
   "outputs": [
    {
     "name": "stdout",
     "output_type": "stream",
     "text": [
      "(15000, 4790)\n",
      "(12000, 1000)\n"
     ]
    },
    {
     "data": {
      "text/plain": [
       "0.7846666666666666"
      ]
     },
     "execution_count": 45,
     "metadata": {},
     "output_type": "execute_result"
    }
   ],
   "source": [
    "eval_perceptron(train_fr,[\"word\"],do_pca=True,limit_n=15000)"
   ]
  },
  {
   "cell_type": "code",
   "execution_count": 41,
   "metadata": {},
   "outputs": [
    {
     "name": "stdout",
     "output_type": "stream",
     "text": [
      "(15000, 12400)\n",
      "(12000, 1000)\n"
     ]
    },
    {
     "data": {
      "text/plain": [
       "0.8543333333333333"
      ]
     },
     "execution_count": 41,
     "metadata": {},
     "output_type": "execute_result"
    }
   ],
   "source": [
    "eval_perceptron(train_en,[\"word\",\"left_neighbor\",\"right_neighbor\",\"pos_in_sentence\",\"end_word3\",\"end_word2\",\"word_length\"],do_pca=True,limit_n=15000)"
   ]
  },
  {
   "cell_type": "code",
   "execution_count": 42,
   "metadata": {},
   "outputs": [
    {
     "name": "stdout",
     "output_type": "stream",
     "text": [
      "(15000, 16189)\n",
      "(12000, 1000)\n"
     ]
    },
    {
     "data": {
      "text/plain": [
       "0.8453333333333334"
      ]
     },
     "execution_count": 42,
     "metadata": {},
     "output_type": "execute_result"
    }
   ],
   "source": [
    "\n",
    "eval_perceptron(train_fr,[\"word\",\"left_neighbor\",\"right_neighbor\",\"pos_in_sentence\",\"end_word3\",\"end_word2\",\"word_length\"],do_pca=True,limit_n=15000)"
   ]
  }
 ],
 "metadata": {
  "kernelspec": {
   "display_name": "Python 3.9.7 ('base')",
   "language": "python",
   "name": "python3"
  },
  "language_info": {
   "codemirror_mode": {
    "name": "ipython",
    "version": 3
   },
   "file_extension": ".py",
   "mimetype": "text/x-python",
   "name": "python",
   "nbconvert_exporter": "python",
   "pygments_lexer": "ipython3",
   "version": "3.9.7 (default, Sep 16 2021, 13:09:58) \n[GCC 7.5.0]"
  },
  "orig_nbformat": 4,
  "vscode": {
   "interpreter": {
    "hash": "8029c709e84c1a8abd9d2c4be48a613c22badb8b8c37d71c0b0342174a8af14c"
   }
  }
 },
 "nbformat": 4,
 "nbformat_minor": 2
}
