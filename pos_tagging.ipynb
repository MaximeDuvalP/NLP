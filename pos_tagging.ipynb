{
 "cells": [
  {
   "cell_type": "code",
   "execution_count": 1,
   "metadata": {},
   "outputs": [],
   "source": [
    "from src.Dataset import Dataset\n",
    "from src.models import random_model, random_model_wdist, accuracy, model_most_common_pos, model_dist_type, model_most_common_type, model_viterbi\n",
    "\n",
    "import numpy as np\n",
    "import pandas as pd"
   ]
  },
  {
   "cell_type": "code",
   "execution_count": 2,
   "metadata": {},
   "outputs": [],
   "source": [
    "# train=Dataset(filename=\"fr_gsd-ud-train.conllu\")\n",
    "# train=Dataset(filename=\"fi_tdt-ud-train.conllu\")\n",
    "train=Dataset(filename=\"en_ewt-ud-train.conllu\")"
   ]
  },
  {
   "cell_type": "code",
   "execution_count": 3,
   "metadata": {},
   "outputs": [
    {
     "name": "stdout",
     "output_type": "stream",
     "text": [
      "Al(PROPN) -(PUNCT) Zaman(PROPN) :(PUNCT) American(ADJ) forces(NOUN) killed(VERB) Shaikh(PROPN) Abdullah(PROPN) al(PROPN) -(PUNCT) Ani(PROPN) ,(PUNCT) the(DET) preacher(NOUN) at(ADP) the(DET) mosque(NOUN) in(ADP) the(DET) town(NOUN) of(ADP) Qaim(PROPN) ,(PUNCT) near(ADP) the(DET) Syrian(ADJ) border(NOUN) .(PUNCT) "
     ]
    }
   ],
   "source": [
    "train.show_sentence(0)"
   ]
  },
  {
   "cell_type": "code",
   "execution_count": 4,
   "metadata": {},
   "outputs": [
    {
     "data": {
      "text/html": [
       "<div>\n",
       "<style scoped>\n",
       "    .dataframe tbody tr th:only-of-type {\n",
       "        vertical-align: middle;\n",
       "    }\n",
       "\n",
       "    .dataframe tbody tr th {\n",
       "        vertical-align: top;\n",
       "    }\n",
       "\n",
       "    .dataframe thead th {\n",
       "        text-align: right;\n",
       "    }\n",
       "</style>\n",
       "<table border=\"1\" class=\"dataframe\">\n",
       "  <thead>\n",
       "    <tr style=\"text-align: right;\">\n",
       "      <th></th>\n",
       "      <th>PROPN</th>\n",
       "      <th>PUNCT</th>\n",
       "      <th>ADJ</th>\n",
       "      <th>NOUN</th>\n",
       "      <th>VERB</th>\n",
       "      <th>DET</th>\n",
       "      <th>ADP</th>\n",
       "      <th>AUX</th>\n",
       "      <th>PRON</th>\n",
       "      <th>PART</th>\n",
       "      <th>SCONJ</th>\n",
       "      <th>NUM</th>\n",
       "      <th>ADV</th>\n",
       "      <th>CCONJ</th>\n",
       "      <th>X</th>\n",
       "      <th>INTJ</th>\n",
       "      <th>SYM</th>\n",
       "    </tr>\n",
       "  </thead>\n",
       "  <tbody>\n",
       "    <tr>\n",
       "      <th>PROPN</th>\n",
       "      <td>0.224951</td>\n",
       "      <td>0.253891</td>\n",
       "      <td>0.013619</td>\n",
       "      <td>0.081226</td>\n",
       "      <td>0.063473</td>\n",
       "      <td>0.004783</td>\n",
       "      <td>0.065013</td>\n",
       "      <td>0.064689</td>\n",
       "      <td>0.010295</td>\n",
       "      <td>0.043936</td>\n",
       "      <td>0.006080</td>\n",
       "      <td>0.032993</td>\n",
       "      <td>0.017348</td>\n",
       "      <td>0.062581</td>\n",
       "      <td>0.000324</td>\n",
       "      <td>0.000162</td>\n",
       "      <td>0.003080</td>\n",
       "    </tr>\n",
       "    <tr>\n",
       "      <th>PUNCT</th>\n",
       "      <td>0.054575</td>\n",
       "      <td>0.046065</td>\n",
       "      <td>0.029298</td>\n",
       "      <td>0.069436</td>\n",
       "      <td>0.044032</td>\n",
       "      <td>0.034802</td>\n",
       "      <td>0.027182</td>\n",
       "      <td>0.016004</td>\n",
       "      <td>0.074008</td>\n",
       "      <td>0.005673</td>\n",
       "      <td>0.016936</td>\n",
       "      <td>0.017655</td>\n",
       "      <td>0.033448</td>\n",
       "      <td>0.060036</td>\n",
       "      <td>0.004784</td>\n",
       "      <td>0.006224</td>\n",
       "      <td>0.002964</td>\n",
       "    </tr>\n",
       "    <tr>\n",
       "      <th>ADJ</th>\n",
       "      <td>0.066368</td>\n",
       "      <td>0.129542</td>\n",
       "      <td>0.054432</td>\n",
       "      <td>0.517333</td>\n",
       "      <td>0.008971</td>\n",
       "      <td>0.005017</td>\n",
       "      <td>0.075186</td>\n",
       "      <td>0.003421</td>\n",
       "      <td>0.013152</td>\n",
       "      <td>0.031169</td>\n",
       "      <td>0.023643</td>\n",
       "      <td>0.008286</td>\n",
       "      <td>0.013912</td>\n",
       "      <td>0.042725</td>\n",
       "      <td>0.001216</td>\n",
       "      <td>0.000304</td>\n",
       "      <td>0.001520</td>\n",
       "    </tr>\n",
       "    <tr>\n",
       "      <th>NOUN</th>\n",
       "      <td>0.008043</td>\n",
       "      <td>0.289211</td>\n",
       "      <td>0.011260</td>\n",
       "      <td>0.123923</td>\n",
       "      <td>0.053775</td>\n",
       "      <td>0.007383</td>\n",
       "      <td>0.206165</td>\n",
       "      <td>0.073107</td>\n",
       "      <td>0.041107</td>\n",
       "      <td>0.028352</td>\n",
       "      <td>0.024675</td>\n",
       "      <td>0.005458</td>\n",
       "      <td>0.035160</td>\n",
       "      <td>0.070981</td>\n",
       "      <td>0.001522</td>\n",
       "      <td>0.000575</td>\n",
       "      <td>0.003361</td>\n",
       "    </tr>\n",
       "    <tr>\n",
       "      <th>VERB</th>\n",
       "      <td>0.025616</td>\n",
       "      <td>0.081125</td>\n",
       "      <td>0.044046</td>\n",
       "      <td>0.078215</td>\n",
       "      <td>0.014285</td>\n",
       "      <td>0.183854</td>\n",
       "      <td>0.184207</td>\n",
       "      <td>0.007010</td>\n",
       "      <td>0.171950</td>\n",
       "      <td>0.065429</td>\n",
       "      <td>0.039813</td>\n",
       "      <td>0.012566</td>\n",
       "      <td>0.069530</td>\n",
       "      <td>0.017460</td>\n",
       "      <td>0.000353</td>\n",
       "      <td>0.000970</td>\n",
       "      <td>0.001852</td>\n",
       "    </tr>\n",
       "    <tr>\n",
       "      <th>DET</th>\n",
       "      <td>0.077145</td>\n",
       "      <td>0.013235</td>\n",
       "      <td>0.233824</td>\n",
       "      <td>0.593137</td>\n",
       "      <td>0.018934</td>\n",
       "      <td>0.010233</td>\n",
       "      <td>0.011458</td>\n",
       "      <td>0.001777</td>\n",
       "      <td>0.005515</td>\n",
       "      <td>0.000368</td>\n",
       "      <td>0.000123</td>\n",
       "      <td>0.015135</td>\n",
       "      <td>0.015686</td>\n",
       "      <td>0.000613</td>\n",
       "      <td>0.000674</td>\n",
       "      <td>0.000000</td>\n",
       "      <td>0.002145</td>\n",
       "    </tr>\n",
       "    <tr>\n",
       "      <th>ADP</th>\n",
       "      <td>0.141270</td>\n",
       "      <td>0.024306</td>\n",
       "      <td>0.071284</td>\n",
       "      <td>0.163715</td>\n",
       "      <td>0.006485</td>\n",
       "      <td>0.359520</td>\n",
       "      <td>0.030228</td>\n",
       "      <td>0.000846</td>\n",
       "      <td>0.131570</td>\n",
       "      <td>0.000846</td>\n",
       "      <td>0.003102</td>\n",
       "      <td>0.040492</td>\n",
       "      <td>0.015509</td>\n",
       "      <td>0.005865</td>\n",
       "      <td>0.001297</td>\n",
       "      <td>0.000282</td>\n",
       "      <td>0.003327</td>\n",
       "    </tr>\n",
       "    <tr>\n",
       "      <th>AUX</th>\n",
       "      <td>0.007244</td>\n",
       "      <td>0.011810</td>\n",
       "      <td>0.107472</td>\n",
       "      <td>0.011968</td>\n",
       "      <td>0.342178</td>\n",
       "      <td>0.081096</td>\n",
       "      <td>0.031809</td>\n",
       "      <td>0.078970</td>\n",
       "      <td>0.046925</td>\n",
       "      <td>0.119046</td>\n",
       "      <td>0.008110</td>\n",
       "      <td>0.009133</td>\n",
       "      <td>0.140934</td>\n",
       "      <td>0.001811</td>\n",
       "      <td>0.000236</td>\n",
       "      <td>0.000315</td>\n",
       "      <td>0.000787</td>\n",
       "    </tr>\n",
       "    <tr>\n",
       "      <th>PRON</th>\n",
       "      <td>0.006391</td>\n",
       "      <td>0.055693</td>\n",
       "      <td>0.038561</td>\n",
       "      <td>0.134049</td>\n",
       "      <td>0.268367</td>\n",
       "      <td>0.018904</td>\n",
       "      <td>0.038131</td>\n",
       "      <td>0.322449</td>\n",
       "      <td>0.028464</td>\n",
       "      <td>0.012299</td>\n",
       "      <td>0.006982</td>\n",
       "      <td>0.003437</td>\n",
       "      <td>0.051235</td>\n",
       "      <td>0.011278</td>\n",
       "      <td>0.000483</td>\n",
       "      <td>0.001611</td>\n",
       "      <td>0.001020</td>\n",
       "    </tr>\n",
       "    <tr>\n",
       "      <th>PART</th>\n",
       "      <td>0.011140</td>\n",
       "      <td>0.019147</td>\n",
       "      <td>0.039861</td>\n",
       "      <td>0.076588</td>\n",
       "      <td>0.692254</td>\n",
       "      <td>0.014795</td>\n",
       "      <td>0.007659</td>\n",
       "      <td>0.069104</td>\n",
       "      <td>0.008877</td>\n",
       "      <td>0.005396</td>\n",
       "      <td>0.001915</td>\n",
       "      <td>0.003133</td>\n",
       "      <td>0.046823</td>\n",
       "      <td>0.002437</td>\n",
       "      <td>0.000000</td>\n",
       "      <td>0.000000</td>\n",
       "      <td>0.000522</td>\n",
       "    </tr>\n",
       "    <tr>\n",
       "      <th>SCONJ</th>\n",
       "      <td>0.056710</td>\n",
       "      <td>0.009494</td>\n",
       "      <td>0.025148</td>\n",
       "      <td>0.035925</td>\n",
       "      <td>0.156017</td>\n",
       "      <td>0.132923</td>\n",
       "      <td>0.013087</td>\n",
       "      <td>0.014370</td>\n",
       "      <td>0.478573</td>\n",
       "      <td>0.010264</td>\n",
       "      <td>0.022838</td>\n",
       "      <td>0.007698</td>\n",
       "      <td>0.032076</td>\n",
       "      <td>0.003079</td>\n",
       "      <td>0.000257</td>\n",
       "      <td>0.001540</td>\n",
       "      <td>0.000000</td>\n",
       "    </tr>\n",
       "    <tr>\n",
       "      <th>NUM</th>\n",
       "      <td>0.039893</td>\n",
       "      <td>0.274386</td>\n",
       "      <td>0.034055</td>\n",
       "      <td>0.350036</td>\n",
       "      <td>0.010460</td>\n",
       "      <td>0.004378</td>\n",
       "      <td>0.079786</td>\n",
       "      <td>0.011189</td>\n",
       "      <td>0.009730</td>\n",
       "      <td>0.001946</td>\n",
       "      <td>0.004378</td>\n",
       "      <td>0.084651</td>\n",
       "      <td>0.007054</td>\n",
       "      <td>0.028947</td>\n",
       "      <td>0.003162</td>\n",
       "      <td>0.000243</td>\n",
       "      <td>0.033082</td>\n",
       "    </tr>\n",
       "    <tr>\n",
       "      <th>ADV</th>\n",
       "      <td>0.009976</td>\n",
       "      <td>0.170881</td>\n",
       "      <td>0.140557</td>\n",
       "      <td>0.014125</td>\n",
       "      <td>0.195575</td>\n",
       "      <td>0.046029</td>\n",
       "      <td>0.091367</td>\n",
       "      <td>0.046029</td>\n",
       "      <td>0.089392</td>\n",
       "      <td>0.017780</td>\n",
       "      <td>0.036250</td>\n",
       "      <td>0.018076</td>\n",
       "      <td>0.089392</td>\n",
       "      <td>0.025978</td>\n",
       "      <td>0.001284</td>\n",
       "      <td>0.000988</td>\n",
       "      <td>0.002963</td>\n",
       "    </tr>\n",
       "    <tr>\n",
       "      <th>CCONJ</th>\n",
       "      <td>0.077774</td>\n",
       "      <td>0.015555</td>\n",
       "      <td>0.087945</td>\n",
       "      <td>0.145977</td>\n",
       "      <td>0.172300</td>\n",
       "      <td>0.098115</td>\n",
       "      <td>0.027221</td>\n",
       "      <td>0.056686</td>\n",
       "      <td>0.183219</td>\n",
       "      <td>0.015854</td>\n",
       "      <td>0.017499</td>\n",
       "      <td>0.014508</td>\n",
       "      <td>0.081813</td>\n",
       "      <td>0.000150</td>\n",
       "      <td>0.000598</td>\n",
       "      <td>0.002842</td>\n",
       "      <td>0.001496</td>\n",
       "    </tr>\n",
       "    <tr>\n",
       "      <th>X</th>\n",
       "      <td>0.012384</td>\n",
       "      <td>0.174923</td>\n",
       "      <td>0.010836</td>\n",
       "      <td>0.044892</td>\n",
       "      <td>0.006192</td>\n",
       "      <td>0.004644</td>\n",
       "      <td>0.029412</td>\n",
       "      <td>0.003096</td>\n",
       "      <td>0.015480</td>\n",
       "      <td>0.001548</td>\n",
       "      <td>0.003096</td>\n",
       "      <td>0.004644</td>\n",
       "      <td>0.001548</td>\n",
       "      <td>0.007740</td>\n",
       "      <td>0.335913</td>\n",
       "      <td>0.000000</td>\n",
       "      <td>0.000000</td>\n",
       "    </tr>\n",
       "    <tr>\n",
       "      <th>INTJ</th>\n",
       "      <td>0.024531</td>\n",
       "      <td>0.376623</td>\n",
       "      <td>0.001443</td>\n",
       "      <td>0.018759</td>\n",
       "      <td>0.346320</td>\n",
       "      <td>0.014430</td>\n",
       "      <td>0.008658</td>\n",
       "      <td>0.021645</td>\n",
       "      <td>0.080808</td>\n",
       "      <td>0.000000</td>\n",
       "      <td>0.004329</td>\n",
       "      <td>0.008658</td>\n",
       "      <td>0.033189</td>\n",
       "      <td>0.011544</td>\n",
       "      <td>0.000000</td>\n",
       "      <td>0.023088</td>\n",
       "      <td>0.002886</td>\n",
       "    </tr>\n",
       "    <tr>\n",
       "      <th>SYM</th>\n",
       "      <td>0.037196</td>\n",
       "      <td>0.040057</td>\n",
       "      <td>0.037196</td>\n",
       "      <td>0.120172</td>\n",
       "      <td>0.018598</td>\n",
       "      <td>0.005722</td>\n",
       "      <td>0.010014</td>\n",
       "      <td>0.004292</td>\n",
       "      <td>0.011445</td>\n",
       "      <td>0.001431</td>\n",
       "      <td>0.002861</td>\n",
       "      <td>0.552217</td>\n",
       "      <td>0.004292</td>\n",
       "      <td>0.011445</td>\n",
       "      <td>0.000000</td>\n",
       "      <td>0.001431</td>\n",
       "      <td>0.015737</td>\n",
       "    </tr>\n",
       "  </tbody>\n",
       "</table>\n",
       "</div>"
      ],
      "text/plain": [
       "          PROPN     PUNCT       ADJ      NOUN      VERB       DET       ADP  \\\n",
       "PROPN  0.224951  0.253891  0.013619  0.081226  0.063473  0.004783  0.065013   \n",
       "PUNCT  0.054575  0.046065  0.029298  0.069436  0.044032  0.034802  0.027182   \n",
       "ADJ    0.066368  0.129542  0.054432  0.517333  0.008971  0.005017  0.075186   \n",
       "NOUN   0.008043  0.289211  0.011260  0.123923  0.053775  0.007383  0.206165   \n",
       "VERB   0.025616  0.081125  0.044046  0.078215  0.014285  0.183854  0.184207   \n",
       "DET    0.077145  0.013235  0.233824  0.593137  0.018934  0.010233  0.011458   \n",
       "ADP    0.141270  0.024306  0.071284  0.163715  0.006485  0.359520  0.030228   \n",
       "AUX    0.007244  0.011810  0.107472  0.011968  0.342178  0.081096  0.031809   \n",
       "PRON   0.006391  0.055693  0.038561  0.134049  0.268367  0.018904  0.038131   \n",
       "PART   0.011140  0.019147  0.039861  0.076588  0.692254  0.014795  0.007659   \n",
       "SCONJ  0.056710  0.009494  0.025148  0.035925  0.156017  0.132923  0.013087   \n",
       "NUM    0.039893  0.274386  0.034055  0.350036  0.010460  0.004378  0.079786   \n",
       "ADV    0.009976  0.170881  0.140557  0.014125  0.195575  0.046029  0.091367   \n",
       "CCONJ  0.077774  0.015555  0.087945  0.145977  0.172300  0.098115  0.027221   \n",
       "X      0.012384  0.174923  0.010836  0.044892  0.006192  0.004644  0.029412   \n",
       "INTJ   0.024531  0.376623  0.001443  0.018759  0.346320  0.014430  0.008658   \n",
       "SYM    0.037196  0.040057  0.037196  0.120172  0.018598  0.005722  0.010014   \n",
       "\n",
       "            AUX      PRON      PART     SCONJ       NUM       ADV     CCONJ  \\\n",
       "PROPN  0.064689  0.010295  0.043936  0.006080  0.032993  0.017348  0.062581   \n",
       "PUNCT  0.016004  0.074008  0.005673  0.016936  0.017655  0.033448  0.060036   \n",
       "ADJ    0.003421  0.013152  0.031169  0.023643  0.008286  0.013912  0.042725   \n",
       "NOUN   0.073107  0.041107  0.028352  0.024675  0.005458  0.035160  0.070981   \n",
       "VERB   0.007010  0.171950  0.065429  0.039813  0.012566  0.069530  0.017460   \n",
       "DET    0.001777  0.005515  0.000368  0.000123  0.015135  0.015686  0.000613   \n",
       "ADP    0.000846  0.131570  0.000846  0.003102  0.040492  0.015509  0.005865   \n",
       "AUX    0.078970  0.046925  0.119046  0.008110  0.009133  0.140934  0.001811   \n",
       "PRON   0.322449  0.028464  0.012299  0.006982  0.003437  0.051235  0.011278   \n",
       "PART   0.069104  0.008877  0.005396  0.001915  0.003133  0.046823  0.002437   \n",
       "SCONJ  0.014370  0.478573  0.010264  0.022838  0.007698  0.032076  0.003079   \n",
       "NUM    0.011189  0.009730  0.001946  0.004378  0.084651  0.007054  0.028947   \n",
       "ADV    0.046029  0.089392  0.017780  0.036250  0.018076  0.089392  0.025978   \n",
       "CCONJ  0.056686  0.183219  0.015854  0.017499  0.014508  0.081813  0.000150   \n",
       "X      0.003096  0.015480  0.001548  0.003096  0.004644  0.001548  0.007740   \n",
       "INTJ   0.021645  0.080808  0.000000  0.004329  0.008658  0.033189  0.011544   \n",
       "SYM    0.004292  0.011445  0.001431  0.002861  0.552217  0.004292  0.011445   \n",
       "\n",
       "              X      INTJ       SYM  \n",
       "PROPN  0.000324  0.000162  0.003080  \n",
       "PUNCT  0.004784  0.006224  0.002964  \n",
       "ADJ    0.001216  0.000304  0.001520  \n",
       "NOUN   0.001522  0.000575  0.003361  \n",
       "VERB   0.000353  0.000970  0.001852  \n",
       "DET    0.000674  0.000000  0.002145  \n",
       "ADP    0.001297  0.000282  0.003327  \n",
       "AUX    0.000236  0.000315  0.000787  \n",
       "PRON   0.000483  0.001611  0.001020  \n",
       "PART   0.000000  0.000000  0.000522  \n",
       "SCONJ  0.000257  0.001540  0.000000  \n",
       "NUM    0.003162  0.000243  0.033082  \n",
       "ADV    0.001284  0.000988  0.002963  \n",
       "CCONJ  0.000598  0.002842  0.001496  \n",
       "X      0.335913  0.000000  0.000000  \n",
       "INTJ   0.000000  0.023088  0.002886  \n",
       "SYM    0.000000  0.001431  0.015737  "
      ]
     },
     "execution_count": 4,
     "metadata": {},
     "output_type": "execute_result"
    }
   ],
   "source": [
    "pd.DataFrame(data=train.A, index=train.pos,columns=train.pos)"
   ]
  },
  {
   "attachments": {},
   "cell_type": "markdown",
   "metadata": {},
   "source": [
    "### Assigning POS at random"
   ]
  },
  {
   "cell_type": "code",
   "execution_count": 5,
   "metadata": {},
   "outputs": [],
   "source": [
    "nb_experiments=10\n",
    "acc=np.zeros(nb_experiments)\n",
    "for i in range(nb_experiments):\n",
    "    rng = np.random.default_rng(seed=i)\n",
    "    pred=random_model(train.X,train.nb_pos,rng)\n",
    "    acc[i]=accuracy(train.y,pred)"
   ]
  },
  {
   "cell_type": "code",
   "execution_count": 6,
   "metadata": {},
   "outputs": [
    {
     "data": {
      "text/plain": [
       "0.05878206632254027"
      ]
     },
     "execution_count": 6,
     "metadata": {},
     "output_type": "execute_result"
    }
   ],
   "source": [
    "np.mean(acc)"
   ]
  },
  {
   "cell_type": "code",
   "execution_count": 7,
   "metadata": {},
   "outputs": [
    {
     "data": {
      "text/plain": [
       "1.6509961298688043e-07"
      ]
     },
     "execution_count": 7,
     "metadata": {},
     "output_type": "execute_result"
    }
   ],
   "source": [
    "np.var(acc)"
   ]
  },
  {
   "attachments": {},
   "cell_type": "markdown",
   "metadata": {},
   "source": [
    "### Assigning POS with whole distribution"
   ]
  },
  {
   "cell_type": "code",
   "execution_count": 8,
   "metadata": {},
   "outputs": [],
   "source": [
    "nb_experiments=10\n",
    "acc=np.zeros(nb_experiments)\n",
    "for i in range(nb_experiments):\n",
    "    rng = np.random.default_rng(seed=i)\n",
    "    pred=random_model_wdist(train.X,train.nb_pos,train.pos_freq,rng)\n",
    "    acc[i]=accuracy(train.y,pred)"
   ]
  },
  {
   "cell_type": "code",
   "execution_count": 9,
   "metadata": {},
   "outputs": [
    {
     "data": {
      "text/plain": [
       "0.09359748944157673"
      ]
     },
     "execution_count": 9,
     "metadata": {},
     "output_type": "execute_result"
    }
   ],
   "source": [
    "np.mean(acc)"
   ]
  },
  {
   "cell_type": "code",
   "execution_count": 10,
   "metadata": {},
   "outputs": [
    {
     "data": {
      "text/plain": [
       "3.270184436926548e-07"
      ]
     },
     "execution_count": 10,
     "metadata": {},
     "output_type": "execute_result"
    }
   ],
   "source": [
    "np.var(acc)"
   ]
  },
  {
   "attachments": {},
   "cell_type": "markdown",
   "metadata": {},
   "source": [
    "### Assign the most common POS"
   ]
  },
  {
   "cell_type": "code",
   "execution_count": 11,
   "metadata": {},
   "outputs": [
    {
     "data": {
      "text/plain": [
       "0.1701665884561239"
      ]
     },
     "execution_count": 11,
     "metadata": {},
     "output_type": "execute_result"
    }
   ],
   "source": [
    "pred=model_most_common_pos(train.X,train.pos_freq)\n",
    "acc=accuracy(train.y,pred)\n",
    "acc"
   ]
  },
  {
   "attachments": {},
   "cell_type": "markdown",
   "metadata": {},
   "source": [
    "### Assign each POS with distribution for its type"
   ]
  },
  {
   "cell_type": "code",
   "execution_count": 12,
   "metadata": {},
   "outputs": [],
   "source": [
    "nb_experiments=10\n",
    "acc=np.zeros(nb_experiments)\n",
    "for i in range(nb_experiments):\n",
    "    pred=model_dist_type(train.X,train.types_to_pos_dist,seed=i)\n",
    "    acc[i]=accuracy(train.y,pred)"
   ]
  },
  {
   "cell_type": "code",
   "execution_count": 13,
   "metadata": {},
   "outputs": [
    {
     "data": {
      "text/plain": [
       "0.8997766111371813"
      ]
     },
     "execution_count": 13,
     "metadata": {},
     "output_type": "execute_result"
    }
   ],
   "source": [
    "np.mean(acc)"
   ]
  },
  {
   "cell_type": "code",
   "execution_count": 14,
   "metadata": {},
   "outputs": [
    {
     "data": {
      "text/plain": [
       "1.4118568322126874e-07"
      ]
     },
     "execution_count": 14,
     "metadata": {},
     "output_type": "execute_result"
    }
   ],
   "source": [
    "np.var(acc)"
   ]
  },
  {
   "attachments": {},
   "cell_type": "markdown",
   "metadata": {},
   "source": [
    "### Assign most common POS for each type"
   ]
  },
  {
   "cell_type": "code",
   "execution_count": 15,
   "metadata": {},
   "outputs": [
    {
     "data": {
      "text/plain": [
       "0.9274352807758486"
      ]
     },
     "execution_count": 15,
     "metadata": {},
     "output_type": "execute_result"
    }
   ],
   "source": [
    "pred=model_most_common_type(train.X,train.types_to_pos_dist)\n",
    "acc=accuracy(train.y,pred)\n",
    "acc"
   ]
  },
  {
   "attachments": {},
   "cell_type": "markdown",
   "metadata": {},
   "source": [
    "### Viterbi algorithm"
   ]
  },
  {
   "cell_type": "code",
   "execution_count": 16,
   "metadata": {},
   "outputs": [
    {
     "data": {
      "text/plain": [
       "0.9565100500547474"
      ]
     },
     "execution_count": 16,
     "metadata": {},
     "output_type": "execute_result"
    }
   ],
   "source": [
    "pred=model_viterbi(train.X,train.start_sentences,train.len_sentences,train.A,train.B,train.pos_freq)\n",
    "acc=accuracy(train.y,pred)\n",
    "acc"
   ]
  }
 ],
 "metadata": {
  "kernelspec": {
   "display_name": "Python 3.9.7 ('base')",
   "language": "python",
   "name": "python3"
  },
  "language_info": {
   "codemirror_mode": {
    "name": "ipython",
    "version": 3
   },
   "file_extension": ".py",
   "mimetype": "text/x-python",
   "name": "python",
   "nbconvert_exporter": "python",
   "pygments_lexer": "ipython3",
   "version": "3.9.7 (default, Sep 16 2021, 13:09:58) \n[GCC 7.5.0]"
  },
  "orig_nbformat": 4,
  "vscode": {
   "interpreter": {
    "hash": "8029c709e84c1a8abd9d2c4be48a613c22badb8b8c37d71c0b0342174a8af14c"
   }
  }
 },
 "nbformat": 4,
 "nbformat_minor": 2
}
